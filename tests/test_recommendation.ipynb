{
 "cells": [
  {
   "cell_type": "code",
   "execution_count": 7,
   "metadata": {},
   "outputs": [
    {
     "name": "stderr",
     "output_type": "stream",
     "text": [
      "usage: ipykernel_launcher.py [-h] [-v] [-q] [--locals] [-f] [-c] [-b]\n",
      "                             [-k TESTNAMEPATTERNS]\n",
      "                             [tests ...]\n",
      "ipykernel_launcher.py: error: argument -f/--failfast: ignored explicit argument '/Users/swedha/Library/Jupyter/runtime/kernel-v3ba0c4cd46d725d08f50d985b63ef9f8f78709dc5.json'\n"
     ]
    },
    {
     "ename": "SystemExit",
     "evalue": "2",
     "output_type": "error",
     "traceback": [
      "An exception has occurred, use %tb to see the full traceback.\n",
      "\u001b[0;31mSystemExit\u001b[0m\u001b[0;31m:\u001b[0m 2\n"
     ]
    }
   ],
   "source": [
    "import unittest\n",
    "import pandas as pd\n",
    "#from recommend_movies import recommend_movies\n",
    "\n",
    "class TestRecommendMovies(unittest.TestCase):\n",
    "\n",
    "    def setUp(self):\n",
    "        # Sample user data\n",
    "        data = {\n",
    "            'User_ID': [1, 2, 3],\n",
    "            'Watched_Genres': [['Action', 'Comedy'], ['Drama'], ['Action', 'Drama']],\n",
    "            'Favorite_Actors': [['Actor A'], ['Actor B'], ['Actor C']],\n",
    "            'Ratings': [4.5, 3.0, 4.0]\n",
    "        }\n",
    "        self.user_data = pd.DataFrame(data)\n",
    "\n",
    "    def test_recommend_movies_action_user(self):\n",
    "        user_id = 1\n",
    "        recommendations = recommend_movies(self.user_data, user_id)\n",
    "        expected_recommendations = ['Die Hard', 'Superbad']\n",
    "        self.assertEqual(recommendations, expected_recommendations)\n",
    "\n",
    "    def test_recommend_movies_drama_user(self):\n",
    "        user_id = 2\n",
    "        recommendations = recommend_movies(self.user_data, user_id)\n",
    "        expected_recommendations = []  # Assuming no recommendations for Drama only\n",
    "        self.assertEqual(recommendations, expected_recommendations)\n",
    "\n",
    "    def test_recommend_movies_multiple_genres_user(self):\n",
    "        user_id = 3\n",
    "        recommendations = recommend_movies(self.user_data, user_id)\n",
    "        expected_recommendations = ['Die Hard', 'The Shawshank Redemption']\n",
    "        self.assertEqual(recommendations, expected_recommendations)\n",
    "\n",
    "if __name__ == '__main__':\n",
    "    unittest.main()\n"
   ]
  }
 ],
 "metadata": {
  "kernelspec": {
   "display_name": "Python 3",
   "language": "python",
   "name": "python3"
  },
  "language_info": {
   "codemirror_mode": {
    "name": "ipython",
    "version": 3
   },
   "file_extension": ".py",
   "mimetype": "text/x-python",
   "name": "python",
   "nbconvert_exporter": "python",
   "pygments_lexer": "ipython3",
   "version": "3.11.9"
  }
 },
 "nbformat": 4,
 "nbformat_minor": 2
}
