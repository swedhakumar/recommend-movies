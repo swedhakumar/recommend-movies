{
 "cells": [
  {
   "cell_type": "code",
   "execution_count": 4,
   "metadata": {},
   "outputs": [
    {
     "name": "stdout",
     "output_type": "stream",
     "text": [
      "       Title                  Genres  \\\n",
      "44  Movie 45              ['Comedy']   \n",
      "33  Movie 34              ['Action']   \n",
      "19  Movie 20     ['Action', 'Drama']   \n",
      "39  Movie 40              ['Action']   \n",
      "15  Movie 16            ['Thriller']   \n",
      "..       ...                     ...   \n",
      "54  Movie 55              ['Horror']   \n",
      "49  Movie 50   ['Action', 'Romance']   \n",
      "96  Movie 97   ['Thriller', 'Drama']   \n",
      "76  Movie 77  ['Thriller', 'Sci-Fi']   \n",
      "17  Movie 18     ['Drama', 'Action']   \n",
      "\n",
      "                                         Actors  Ratings  \n",
      "44                ['Keanu Reeves', 'Tom Hanks']      5.0  \n",
      "33                             ['Keanu Reeves']      4.9  \n",
      "19        ['Meryl Streep', 'Leonardo DiCaprio']      4.9  \n",
      "39                ['Tom Hanks', 'Meryl Streep']      4.9  \n",
      "15                             ['Meryl Streep']      4.9  \n",
      "..                                          ...      ...  \n",
      "54        ['Meryl Streep', 'Leonardo DiCaprio']      3.2  \n",
      "49        ['Leonardo DiCaprio', 'Keanu Reeves']      3.2  \n",
      "96                        ['Leonardo DiCaprio']      3.1  \n",
      "76  ['Scarlett Johansson', 'Leonardo DiCaprio']      3.0  \n",
      "17                   ['Tom Hanks', 'Brad Pitt']      3.0  \n",
      "\n",
      "[100 rows x 4 columns]\n"
     ]
    }
   ],
   "source": [
    "import pandas as pd\n",
    "\n",
    "# Sample data for users and movies (Replace these with your actual dataset)\n",
    "user_data = pd.read_csv(\"/Users/swedha/Documents/MLCA/data/user_data.csv\")\n",
    "\n",
    "movie_data = pd.read_csv(\"/Users/swedha/Documents/MLCA/data/movie_data.csv\")\n",
    "\n",
    "# Function to recommend movies based on watched genres and favorite actors\n",
    "def recommend_movies(user_data, movie_data, user_id):\n",
    "    # Get the user's information based on User_ID\n",
    "    user_info = user_data[user_data['User_ID'] == user_id]\n",
    "    \n",
    "    if user_info.empty:\n",
    "        return \"User not found\"\n",
    "\n",
    "    # Extract the user's watched genres and favorite actors\n",
    "    watched_genres = user_info['Watched_Genres'].values[0]\n",
    "    favorite_actors = user_info['Favorite_Actors'].values[0]\n",
    "\n",
    "    # Filter movies based on matching genres or actors\n",
    "    recommendations = movie_data[\n",
    "        movie_data['Genres'].apply(lambda genres: any(genre in watched_genres for genre in genres)) |\n",
    "        movie_data['Actors'].apply(lambda actors: any(actor in favorite_actors for actor in actors))\n",
    "    ]\n",
    "\n",
    "    # Sort the recommendations based on movie ratings (descending)\n",
    "    recommendations = recommendations.sort_values(by='Ratings', ascending=False)\n",
    "\n",
    "    # Return the recommended movie titles\n",
    "    return recommendations[['Title', 'Genres', 'Actors', 'Ratings']]\n",
    "\n",
    "# Example usage: Recommend movies for user with User_ID = 1\n",
    "user_id = 1\n",
    "recommended_movies = recommend_movies(user_data, movie_data, user_id)\n",
    "print(recommended_movies)\n"
   ]
  },
  {
   "cell_type": "code",
   "execution_count": 5,
   "metadata": {},
   "outputs": [
    {
     "name": "stderr",
     "output_type": "stream",
     "text": [
      "/Library/Frameworks/Python.framework/Versions/3.11/lib/python3.11/site-packages/tpot/builtins/__init__.py:36: UserWarning: Warning: optional dependency `torch` is not available. - skipping import of NN models.\n",
      "  warnings.warn(\"Warning: optional dependency `torch` is not available. - skipping import of NN models.\")\n"
     ]
    },
    {
     "name": "stdout",
     "output_type": "stream",
     "text": [
      "Warning: xgboost.XGBRegressor is not available and will not be used by TPOT.\n",
      "Optimization Progress:   0%|          | 0/120 [00:00<?, ?pipeline/s]"
     ]
    },
    {
     "name": "stderr",
     "output_type": "stream",
     "text": [
      "0.00s - Debugger warning: It seems that frozen modules are being used, which may\n",
      "0.00s - make the debugger miss breakpoints. Please pass -Xfrozen_modules=off\n",
      "0.00s - to python to disable frozen modules.\n",
      "0.00s - Note: Debugging will proceed. Set PYDEVD_DISABLE_FILE_VALIDATION=1 to disable this validation.\n"
     ]
    },
    {
     "name": "stdout",
     "output_type": "stream",
     "text": [
      "                                                                             \n",
      "Generation 1 - Current best internal CV score: -0.3179103954081633\n",
      "                                                                             \n",
      "Generation 2 - Current best internal CV score: -0.3179103954081633\n",
      "                                                                             \n",
      "Generation 3 - Current best internal CV score: -0.3179103954081633\n",
      "                                                                              \n",
      "Generation 4 - Current best internal CV score: -0.3179103954081633\n",
      "                                                                              \n",
      "Generation 5 - Current best internal CV score: -0.3179103954081633\n",
      "                                                                              \n",
      "Best pipeline: KNeighborsRegressor(input_matrix, n_neighbors=28, p=1, weights=uniform)\n",
      "Mean Squared Error: 0.4251160714285717\n"
     ]
    }
   ],
   "source": [
    "import pandas as pd\n",
    "from tpot import TPOTRegressor\n",
    "from sklearn.model_selection import train_test_split\n",
    "from sklearn.metrics import mean_squared_error\n",
    "\n",
    "# Load user data\n",
    "user_data = pd.read_csv('/Users/swedha/Documents/MLCA/data/user_data.csvv')\n",
    "\n",
    "# Preprocessing\n",
    "user_data['Watched_Genres'] = user_data['Watched_Genres'].apply(lambda x: len(eval(x)))\n",
    "user_data['Favorite_Actors'] = user_data['Favorite_Actors'].apply(lambda x: len(eval(x)))\n",
    "\n",
    "# Features and target variable\n",
    "X = user_data[['Watched_Genres', 'Favorite_Actors']]\n",
    "y = user_data['Ratings']\n",
    "\n",
    "# Split the data\n",
    "X_train, X_test, y_train, y_test = train_test_split(X, y, test_size=0.2, random_state=42)\n",
    "\n",
    "# Initialize and fit the TPOT regressor\n",
    "tpot = TPOTRegressor(verbosity=2, generations=5, population_size=20, random_state=42)\n",
    "tpot.fit(X_train, y_train)\n",
    "\n",
    "# Predict and evaluate\n",
    "predictions = tpot.predict(X_test)\n",
    "mse = mean_squared_error(y_test, predictions)\n",
    "print(f'Mean Squared Error: {mse}')\n",
    "\n",
    "# Export the best model\n",
    "tpot.export('best_model_pipeline.py')\n"
   ]
  }
 ],
 "metadata": {
  "kernelspec": {
   "display_name": "Python 3",
   "language": "python",
   "name": "python3"
  },
  "language_info": {
   "codemirror_mode": {
    "name": "ipython",
    "version": 3
   },
   "file_extension": ".py",
   "mimetype": "text/x-python",
   "name": "python",
   "nbconvert_exporter": "python",
   "pygments_lexer": "ipython3",
   "version": "3.11.9"
  }
 },
 "nbformat": 4,
 "nbformat_minor": 2
}
